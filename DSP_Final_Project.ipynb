{
 "cells": [
  {
   "cell_type": "markdown",
   "id": "3e5905b6",
   "metadata": {},
   "source": [
    "# Image Compression and steganography"
   ]
  },
  {
   "cell_type": "markdown",
   "id": "65bd437b",
   "metadata": {},
   "source": [
    "#### Using SVD"
   ]
  },
  {
   "cell_type": "code",
   "execution_count": null,
   "id": "9157ddbd",
   "metadata": {},
   "outputs": [],
   "source": [
    "from matplotlib.image import imread\n",
    "import matplotlib.pyplot as plt\n",
    "import numpy as np\n",
    "import os\n",
    "import pandas as pd\n",
    "\n",
    "\n",
    "A = imread('shepherd.jpg')\n",
    "X = np.mean(A, -1); #RGB to Gray| Change 3 channel to 2 channel\n",
    "\n",
    "dpi, height, width = 50, A.shape[0], A.shape[1]\n",
    "\n",
    "plt.figure(figsize=(width/dpi,height/dpi))\n",
    "\n",
    "img = plt.imshow(X)\n",
    "# print(str(X.shape))\n",
    "img.set_cmap('gray')\n",
    "plt.axis('off')\n",
    "plt.savefig('Gray_shepherd.jpg', bbox_inches='tight',pad_inches = 0)\n",
    "plt.show()\n",
    "\n",
    "\n",
    "# w = pd.DataFrame(X)\n",
    "# print (w)"
   ]
  },
  {
   "cell_type": "code",
   "execution_count": null,
   "id": "28744ada",
   "metadata": {},
   "outputs": [],
   "source": [
    "U, S, VT = np.linalg.svd(X)\n",
    "S = np.diag(S)\n",
    "\n",
    "print('Gray shape is: ' + str(X.shape))\n",
    "X_sum = np.count_nonzero(X)\n",
    "print('total array in orginal image: ' + str(f\"{X_sum:,}\"))"
   ]
  },
  {
   "cell_type": "code",
   "execution_count": null,
   "id": "3355bd70",
   "metadata": {},
   "outputs": [],
   "source": [
    "for r in (5, 25, 100, 400):\n",
    "#     construct approximate aimage\n",
    "    Xapprox = U[:,:r] @ S[:r,:r] @ VT[:r,:]\n",
    "    plt.figure(figsize=(width/dpi,height/dpi))\n",
    "    img = plt.imshow(Xapprox)\n",
    "    img.set_cmap('gray')\n",
    "    plt.axis('off')\n",
    "#     plt.title('r = ' + str(r))\n",
    "    plt.savefig(str(r)+'.jpg', bbox_inches='tight',pad_inches = 0)\n",
    "    plt.show()\n",
    "    \n",
    "    \n",
    "    print('image shape is: ' + str([np.shape(x) for x in [U[:,:r], S[:r,:r], VT[:r,:]]]))\n",
    "    U_sum = np.count_nonzero(U[:,:r])\n",
    "    S_sum = np.count_nonzero(S[:r,:r])\n",
    "    VT_sum = np.count_nonzero(VT[:r,:])\n",
    "    total_gray_arr = U_sum+S_sum+VT_sum\n",
    "    print('total array in image: ' + str(f\"{total_gray_arr:,}\"))\n",
    "    print('Compression Ration is: ' + str(f\"{total_gray_arr/X_sum:%}\"))"
   ]
  },
  {
   "cell_type": "markdown",
   "id": "2601bcaf",
   "metadata": {},
   "source": [
    "#### Using SVD for color photo"
   ]
  },
  {
   "cell_type": "code",
   "execution_count": null,
   "id": "e79ae357",
   "metadata": {},
   "outputs": [],
   "source": [
    "\n",
    "plt.figure(figsize=(width/dpi,height/dpi))\n",
    "\n",
    "plt.imshow(A)\n",
    "plt.axis('off')\n",
    "plt.savefig('Color_shepherd.jpg', bbox_inches='tight',pad_inches = 0)\n",
    "plt.show()\n",
    "\n",
    "print('color shape is: ' + str(np.shape(A)))\n",
    "A_sum = np.count_nonzero(A)\n",
    "print('total array in orginal image: ' + str(f\"{A_sum:,}\"))\n",
    "\n",
    "\n",
    "\n",
    "mypic_Red=A[:,:,0]\n",
    "mypic_Green=A[:,:,1]\n",
    "mypic_Blue=A[:,:,2]\n",
    "\n",
    "U_Red, S_Red, VT_Red = np.linalg.svd(mypic_Red)\n",
    "U_Green, S_Green, VT_Green = np.linalg.svd(mypic_Green)\n",
    "U_Blue, S_Blue, VT_Blue = np.linalg.svd(mypic_Blue)\n",
    "\n"
   ]
  },
  {
   "cell_type": "code",
   "execution_count": null,
   "id": "be829610",
   "metadata": {},
   "outputs": [],
   "source": [
    "S_Red = np.diag(S_Red)\n",
    "S_Green = np.diag(S_Green)\n",
    "S_Blue = np.diag(S_Blue)\n",
    "# print('x shape is: ' + str(S_Red.shape))\n",
    "\n",
    "for r in (5, 25, 100, 400):\n",
    "#     construct approximate aimage\n",
    "    Redapprox = U_Red[:,:r] @ S_Red[:r,:r] @ VT_Red[:r,:]\n",
    "    Greenapprox = U_Green[:,:r] @ S_Green[:r,:r] @ VT_Green[:r,:]\n",
    "    Blueapprox = U_Blue[:,:r] @ S_Blue[:r,:r] @ VT_Blue[:r,:]\n",
    "    \n",
    "    Redapprox=Redapprox.astype(int)\n",
    "    Greenapprox=Greenapprox.astype(int)\n",
    "    Blueapprox=Blueapprox.astype(int)\n",
    "    \n",
    "    \n",
    "    plt.figure(figsize=(width/dpi,height/dpi))\n",
    "    compressed_array=np.stack((Redapprox, Greenapprox, Blueapprox), axis=2)\n",
    "    \n",
    "    compressed_array = compressed_array/np.amax(compressed_array)\n",
    "    compressed_array = np.clip(compressed_array, 0, 1)\n",
    "    \n",
    "    img = plt.imshow(compressed_array)\n",
    "#     img.set_cmap('gray')\n",
    "    plt.axis('off')\n",
    "#     plt.title('r = ' + str(r))\n",
    "    plt.savefig('Color_' + str(r) +'.jpg', bbox_inches='tight',pad_inches = 0)\n",
    "    plt.show()\n",
    "    \n",
    "    print('image shape for Red is: ' + str([np.shape(x) for x in [U_Red[:,:r], S_Red[:r,:r], VT_Red[:r,:]]]))\n",
    "    print('image shape for Green is: ' + str([np.shape(x) for x in [U_Green[:,:r], S_Green[:r,:r], VT_Green[:r,:]]]))\n",
    "    print('image shape for Blue is: ' + str([np.shape(x) for x in [U_Blue[:,:r], S_Blue[:r,:r], VT_Blue[:r,:]]]))\n",
    "    \n",
    "    U_Red_s = np.count_nonzero(U_Red[:,:r])\n",
    "    S_Red_s = np.count_nonzero(S_Red[:r,:r])\n",
    "    VT_Red_s = np.count_nonzero(VT_Red[:r,:])\n",
    "    U_Green_s = np.count_nonzero(U_Green[:,:r])\n",
    "    S_Green_s = np.count_nonzero(S_Green[:r,:r])\n",
    "    VT_Green_s = np.count_nonzero(VT_Green[:r,:])\n",
    "    U_Blue_s = np.count_nonzero(U_Blue[:,:r])\n",
    "    S_Blue_s = np.count_nonzero(S_Blue[:r,:r])\n",
    "    VT_Blue_s = np.count_nonzero(VT_Blue[:r,:])\n",
    "    total_arr = U_Red_s+S_Red_s+VT_Red_s+U_Green_s+S_Green_s+VT_Green_s+U_Blue_s+S_Blue_s+VT_Blue_s\n",
    "    print('total of array in image: ' + str(f\"{total_arr:,}\"))\n",
    "    print('Compression Ration is: ' + str(f\"{total_arr/A_sum:%}\"))    "
   ]
  },
  {
   "cell_type": "code",
   "execution_count": null,
   "id": "8133a2f3",
   "metadata": {},
   "outputs": [],
   "source": []
  }
 ],
 "metadata": {
  "kernelspec": {
   "display_name": "Python 3",
   "language": "python",
   "name": "python3"
  },
  "language_info": {
   "codemirror_mode": {
    "name": "ipython",
    "version": 3
   },
   "file_extension": ".py",
   "mimetype": "text/x-python",
   "name": "python",
   "nbconvert_exporter": "python",
   "pygments_lexer": "ipython3",
   "version": "3.9.2"
  }
 },
 "nbformat": 4,
 "nbformat_minor": 5
}
