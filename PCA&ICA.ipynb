{
 "cells": [
  {
   "cell_type": "markdown",
   "id": "7b0c8498",
   "metadata": {},
   "source": [
    "##### افزودن کتاب خانه ها"
   ]
  },
  {
   "cell_type": "code",
   "execution_count": null,
   "id": "91b2e7e6",
   "metadata": {},
   "outputs": [],
   "source": [
    "import pandas as pd\n",
    "import numpy as np"
   ]
  },
  {
   "cell_type": "markdown",
   "id": "0fb07774",
   "metadata": {},
   "source": [
    "##### لود کردن فایل دیتا"
   ]
  },
  {
   "cell_type": "code",
   "execution_count": null,
   "id": "799c19ab",
   "metadata": {},
   "outputs": [],
   "source": [
    "df = pd.read_csv('C:/Users/Vahidreza/Desktop/IAUT/2.Digital signal processing/hgrvct02.dat', header=None, sep='\\t', engine='python')\n",
    "df.shape"
   ]
  },
  {
   "cell_type": "code",
   "execution_count": null,
   "id": "64944c66",
   "metadata": {},
   "outputs": [],
   "source": [
    "df.head(5)"
   ]
  },
  {
   "cell_type": "markdown",
   "id": "5067d272",
   "metadata": {},
   "source": [
    "##### محاسبه میانگین صفر داده ها"
   ]
  },
  {
   "cell_type": "code",
   "execution_count": null,
   "id": "baaea1e0",
   "metadata": {
    "tags": []
   },
   "outputs": [],
   "source": [
    "x = df.sub(df.mean(axis=1), axis=0)\n",
    "x.head(5)"
   ]
  },
  {
   "cell_type": "markdown",
   "id": "ac6c248e",
   "metadata": {},
   "source": [
    "##### ماتریس کواریانس"
   ]
  },
  {
   "cell_type": "code",
   "execution_count": null,
   "id": "340caf66",
   "metadata": {},
   "outputs": [],
   "source": [
    "cx = x.cov()\n",
    "cx"
   ]
  },
  {
   "cell_type": "markdown",
   "id": "74939cde",
   "metadata": {},
   "source": [
    "##### محاسبه مقدار ویژه و بردار ویژه"
   ]
  },
  {
   "cell_type": "code",
   "execution_count": null,
   "id": "2344b7dd",
   "metadata": {},
   "outputs": [],
   "source": [
    "w, v = np.linalg.eig(np.array(cx))\n",
    "v = pd.DataFrame(v)\n",
    "w = pd.DataFrame(w)\n",
    "w"
   ]
  },
  {
   "cell_type": "markdown",
   "id": "5028893d",
   "metadata": {},
   "source": [
    "##### اضافه کردن مقدار ویژه به بردار ها برای مرتب سازی"
   ]
  },
  {
   "cell_type": "code",
   "execution_count": null,
   "id": "4e3f93d7",
   "metadata": {},
   "outputs": [],
   "source": [
    "v.insert(loc=0, column='eigenvalues', value=w)\n",
    "v"
   ]
  },
  {
   "cell_type": "markdown",
   "id": "2ceb4244",
   "metadata": {},
   "source": [
    "##### مرتب سازی بر اساس مقدار ویژه"
   ]
  },
  {
   "cell_type": "code",
   "execution_count": null,
   "id": "3fae2112",
   "metadata": {},
   "outputs": [],
   "source": [
    "v = v.sort_values(by = 'eigenvalues', ascending = False)\n",
    "v = v.reset_index(drop=True)\n",
    "v"
   ]
  },
  {
   "cell_type": "markdown",
   "id": "c92b1f8e",
   "metadata": {},
   "source": [
    "##### حذف بردار مقدار ویژه از نتایج"
   ]
  },
  {
   "cell_type": "code",
   "execution_count": null,
   "id": "f4eb6495",
   "metadata": {},
   "outputs": [],
   "source": [
    "v=v.drop(columns='eigenvalues')\n",
    "v"
   ]
  },
  {
   "cell_type": "markdown",
   "id": "a4d880e2",
   "metadata": {},
   "source": [
    "##### محاسبه ZScore"
   ]
  },
  {
   "cell_type": "code",
   "execution_count": null,
   "id": "f5f2ea39",
   "metadata": {},
   "outputs": [],
   "source": [
    "zscore = np.dot(x,v)\n",
    "zscore = pd.DataFrame(zscore)\n",
    "zscore"
   ]
  },
  {
   "cell_type": "markdown",
   "id": "0144009f",
   "metadata": {},
   "source": [
    "##### مرتب سازی مقادیر ویژه برای محاسبه % قابل قبول"
   ]
  },
  {
   "cell_type": "code",
   "execution_count": null,
   "id": "d1a4b306",
   "metadata": {},
   "outputs": [],
   "source": [
    "w = w.sort_values(w.columns[0], ascending=False)\n",
    "w = w.reset_index(drop=True)\n",
    "w"
   ]
  },
  {
   "cell_type": "markdown",
   "id": "dc5935e9",
   "metadata": {},
   "source": [
    "##### جمع کل مقادیر ویژه"
   ]
  },
  {
   "cell_type": "code",
   "execution_count": null,
   "id": "5905c6ee",
   "metadata": {},
   "outputs": [],
   "source": [
    "Total = w.sum().values\n",
    "Total"
   ]
  },
  {
   "cell_type": "markdown",
   "id": "c916485b",
   "metadata": {},
   "source": [
    "##### بدست آوردن تعداد قابل قبول بردار ها برای درصد بالای 95"
   ]
  },
  {
   "cell_type": "code",
   "execution_count": null,
   "id": "e104a097",
   "metadata": {},
   "outputs": [],
   "source": [
    "for i in range(1,21):\n",
    "    r = w.head(i).sum().values\n",
    "    if r/Total >= 0.995 :\n",
    "        print(i)\n",
    "        break"
   ]
  },
  {
   "cell_type": "markdown",
   "id": "19bcd329",
   "metadata": {},
   "source": [
    "##### آماده سازی تعداد بردار های قابل قبول"
   ]
  },
  {
   "cell_type": "code",
   "execution_count": null,
   "id": "22bb77ac",
   "metadata": {},
   "outputs": [],
   "source": [
    "v_select = v[i:20]\n",
    "zscore = zscore.iloc [:, :20-i]\n",
    "v_select"
   ]
  },
  {
   "cell_type": "markdown",
   "id": "1d106fb8",
   "metadata": {},
   "source": [
    "##### محاسبه X_noise"
   ]
  },
  {
   "cell_type": "code",
   "execution_count": null,
   "id": "2c55d879",
   "metadata": {},
   "outputs": [],
   "source": [
    "x_noise = np.dot(zscore,v_select)\n",
    "x_noise = pd.DataFrame(x_noise)\n",
    "x_noise"
   ]
  },
  {
   "cell_type": "markdown",
   "id": "dfb15aed",
   "metadata": {},
   "source": [
    "##### محاسبه مقدار نویز"
   ]
  },
  {
   "cell_type": "code",
   "execution_count": null,
   "id": "548607b7",
   "metadata": {},
   "outputs": [],
   "source": [
    "noise = x.sub(x_noise, axis=0)\n",
    "noise"
   ]
  },
  {
   "cell_type": "markdown",
   "id": "b5e8f477",
   "metadata": {},
   "source": [
    "##### حذف نویز از مقادیر اولیه"
   ]
  },
  {
   "cell_type": "code",
   "execution_count": null,
   "id": "2379e57f",
   "metadata": {},
   "outputs": [],
   "source": [
    "final = df.sub(noise, axis=0)\n",
    "final"
   ]
  },
  {
   "cell_type": "markdown",
   "id": "163fcfb9",
   "metadata": {},
   "source": [
    "### پایان ;)"
   ]
  }
 ],
 "metadata": {
  "kernelspec": {
   "display_name": "Python 3",
   "language": "python",
   "name": "python3"
  },
  "language_info": {
   "codemirror_mode": {
    "name": "ipython",
    "version": 3
   },
   "file_extension": ".py",
   "mimetype": "text/x-python",
   "name": "python",
   "nbconvert_exporter": "python",
   "pygments_lexer": "ipython3",
   "version": "3.9.2"
  }
 },
 "nbformat": 4,
 "nbformat_minor": 5
}
